{
 "cells": [
  {
   "cell_type": "markdown",
   "id": "ff1688ea",
   "metadata": {},
   "source": [
    "# Monte Carlo Simulation of betting strategy on a Fair Roulette\n",
    "\n",
    "The purpose of this program is to simulate betting on a simplified Fair Roulette using the Kelly criterion. This roulette allows the gambler to bet on any number or \"even-odd\". Only the \"even-odd\" bet is simulated. The idea is to try to answer the question of how long would a better last playing the roulette if he only bet on odd using the Kelly criterion. The code is based on Lecture 6 of the lecture series MIT 6.0002 Introduction to Computational Thinking and Data Science."
   ]
  },
  {
   "cell_type": "code",
   "execution_count": null,
   "id": "3d860b5c",
   "metadata": {},
   "outputs": [],
   "source": [
    "import random\n",
    "# Create the class\n",
    "class FairRoulette():\n",
    "    \n",
    "    # instances attributes\n",
    "    def __init__(self):\n",
    "        self.pockets = [i for i in range(1, 37)]\n",
    "        self.ball = None\n",
    "        self.pocketOdds = len(self.pockets)-1\n",
    "        self.oeOdds = 2\n",
    "        \n",
    "    # define methods\n",
    "    # method 1: ball spin\n",
    "    def spin(self):\n",
    "        self.ball = random.choice(self.pockets)\n",
    "        if self.ball % 2 == 0:\n",
    "            self.oe=\"even\"\n",
    "        else:\n",
    "            self.oe=\"odd\"\n",
    "        #print(f\"The ball landed in {self.ball} which is {self.oe}\")\n",
    "        \n",
    "    # method 2: result of the bet\n",
    "    def betPocket(self, amt, pocket=0, odd_even=''):\n",
    "        if pocket==0:\n",
    "            if str(odd_even)==str(self.oe):\n",
    "                return amt*self.oeOdds\n",
    "            else:\n",
    "                return -amt\n",
    "            \n",
    "        elif pocket !=0:\n",
    "            if str(odd_even)==str(self.oe): \n",
    "                if str(pocket) == str(self.ball) and odd_even !='':\n",
    "                    return amt*self.pocketOdds*self.oeOdds\n",
    "            \n",
    "                elif str(pocket) == str(self.ball) and odd_even =='':\n",
    "                    return amt*self.pocketOdds\n",
    "            \n",
    "                else:\n",
    "                    return -amt\n",
    "                \n",
    "    # method to return a string? and describe the class?\n",
    "    def __str__(self):\n",
    "        return 'Fair Roulette'\n",
    "    \n",
    "# Function to calculate the Kelly Criterion\n",
    "def kelly(p, b):\n",
    "    f = p - ((1-p)/b)\n",
    "    return f\n",
    "\n",
    "# Funcion to calculate the probability taking odds as the inputv\n",
    "def probs(odds):\n",
    "    prob = odds/(1+odds)\n",
    "    return prob"
   ]
  },
  {
   "cell_type": "code",
   "execution_count": 4,
   "id": "284e4f3f",
   "metadata": {},
   "outputs": [
    {
     "name": "stdout",
     "output_type": "stream",
     "text": [
      "Loop is finished. It had 12368 number of spins\n"
     ]
    }
   ],
   "source": [
    "# Spin the roulette until I have no more money\n",
    "spins = []\n",
    "i=0\n",
    "bankroll = 100\n",
    "while bankroll>0:\n",
    "    Roulette=FairRoulette()\n",
    "    Roulette.spin()\n",
    "    wager = bankroll*kelly(p=probs(Roulette.oeOdds-1), b=Roulette.oeOdds)\n",
    "    bet = Roulette.betPocket(pocket=0, amt=wager, odd_even='odd')\n",
    "    bankroll = bankroll + bet\n",
    "    i += 1\n",
    "else: \n",
    "    spins.append(i)\n",
    "    print(f\"Loop is finished. It had {i} number of spins\")"
   ]
  },
  {
   "cell_type": "code",
   "execution_count": 7,
   "id": "b0988276",
   "metadata": {},
   "outputs": [],
   "source": [
    "# Now let's simulate the fair roulette 100 times\n",
    "spins = []\n",
    "for i in range(100):\n",
    "    i=0\n",
    "    bankroll = 100\n",
    "    while bankroll>0:\n",
    "        Roulette=FairRoulette()\n",
    "        Roulette.spin()\n",
    "        wager = bankroll*kelly(p=probs(Roulette.oeOdds-1), b=Roulette.oeOdds)\n",
    "        bet = Roulette.betPocket(pocket=0, amt=wager, odd_even='odd')\n",
    "        bankroll = bankroll + bet\n",
    "        i += 1\n",
    "    else: \n",
    "        spins.append(i)\n",
    "        # print(f\"Loop is finished. It had {i} number of spins\")\n"
   ]
  },
  {
   "cell_type": "code",
   "execution_count": null,
   "id": "3f41ca04",
   "metadata": {},
   "outputs": [],
   "source": []
  },
  {
   "cell_type": "code",
   "execution_count": 19,
   "id": "032110ae",
   "metadata": {},
   "outputs": [
    {
     "data": {
      "text/plain": [
       "Text(0.5, 1.0, 'Simulation of the Kelly Criterion used in a Fair Roulette')"
      ]
     },
     "execution_count": 19,
     "metadata": {},
     "output_type": "execute_result"
    },
    {
     "data": {
      "image/png": "[encoded data removed]",
      "text/plain": [
       "<Figure size 432x288 with 1 Axes>"
      ]
     },
     "metadata": {
      "needs_background": "light"
     },
     "output_type": "display_data"
    }
   ],
   "source": [
    "import matplotlib.pyplot as plt\n",
    "%matplotlib inline\n",
    "spins.sort()\n",
    "plt.hist(x=spins, bins=20)\n",
    "plt.xlabel('Spins')\n",
    "plt.ylabel('Density')\n",
    "plt.title('Simulation of the Kelly Criterion used in a Fair Roulette')"
   ]
  },
  {
   "cell_type": "code",
   "execution_count": null,
   "id": "0b9182c8",
   "metadata": {},
   "outputs": [],
   "source": []
  },
  {
   "cell_type": "code",
   "execution_count": null,
   "id": "7520f9a6",
   "metadata": {},
   "outputs": [],
   "source": []
  },
  {
   "cell_type": "code",
   "execution_count": null,
   "id": "f54be2f9",
   "metadata": {},
   "outputs": [],
   "source": []
  },
  {
   "cell_type": "code",
   "execution_count": null,
   "id": "c177e386",
   "metadata": {},
   "outputs": [],
   "source": []
  },
  {
   "cell_type": "code",
   "execution_count": null,
   "id": "4303fa22",
   "metadata": {},
   "outputs": [],
   "source": []
  },
  {
   "cell_type": "code",
   "execution_count": null,
   "id": "c101b9bd",
   "metadata": {},
   "outputs": [],
   "source": []
  },
  {
   "cell_type": "code",
   "execution_count": null,
   "id": "654e4e37",
   "metadata": {},
   "outputs": [],
   "source": []
  },
  {
   "cell_type": "code",
   "execution_count": null,
   "id": "a3a0bed6",
   "metadata": {},
   "outputs": [],
   "source": []
  },
  {
   "cell_type": "code",
   "execution_count": null,
   "id": "d73882c8",
   "metadata": {},
   "outputs": [],
   "source": []
  },
  {
   "cell_type": "code",
   "execution_count": null,
   "id": "6a7af013",
   "metadata": {},
   "outputs": [],
   "source": []
  },
  {
   "cell_type": "code",
   "execution_count": null,
   "id": "c9e1417f",
   "metadata": {},
   "outputs": [],
   "source": []
  },
  {
   "cell_type": "code",
   "execution_count": null,
   "id": "fc055aa8",
   "metadata": {},
   "outputs": [],
   "source": []
  },
  {
   "cell_type": "code",
   "execution_count": null,
   "id": "7ac3986a",
   "metadata": {},
   "outputs": [],
   "source": []
  },
  {
   "cell_type": "code",
   "execution_count": null,
   "id": "48c78208",
   "metadata": {},
   "outputs": [],
   "source": []
  },
  {
   "cell_type": "code",
   "execution_count": null,
   "id": "d58fa62f",
   "metadata": {},
   "outputs": [],
   "source": []
  },
  {
   "cell_type": "code",
   "execution_count": null,
   "id": "5c742ce3",
   "metadata": {},
   "outputs": [],
   "source": []
  },
  {
   "cell_type": "code",
   "execution_count": null,
   "id": "0283dd8f",
   "metadata": {},
   "outputs": [],
   "source": []
  }
 ],
 "metadata": {
  "kernelspec": {
   "display_name": "Python 3 (ipykernel)",
   "language": "python",
   "name": "python3"
  },
  "language_info": {
   "codemirror_mode": {
    "name": "ipython",
    "version": 3
   },
   "file_extension": ".py",
   "mimetype": "text/x-python",
   "name": "python",
   "nbconvert_exporter": "python",
   "pygments_lexer": "ipython3",
   "version": "3.9.12"
  }
 },
 "nbformat": 4,
 "nbformat_minor": 5
}
